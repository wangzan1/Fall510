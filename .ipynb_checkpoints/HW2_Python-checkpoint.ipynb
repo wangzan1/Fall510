{
 "cells": [
  {
   "cell_type": "code",
   "execution_count": 1,
   "metadata": {
    "collapsed": false
   },
   "outputs": [
    {
     "name": "stdout",
     "output_type": "stream",
     "text": [
      "0\n",
      "1\n",
      "1\n",
      "2\n",
      "3\n",
      "5\n",
      "8\n",
      "13\n"
     ]
    }
   ],
   "source": [
    "#1.\n",
    "def fib (n):\n",
    "    num1=0\n",
    "    num2=1\n",
    "    sum1=num1+num2\n",
    "    if n<=num1:\n",
    "        print('Too small. Try another number')##If n is less than 0, then  n is too small for Fibonacci numbers.\n",
    "    else:\n",
    "        if n<=num2:\n",
    "            print(num1)# if n =1 ,then 0 is the only Fibonacci number which is less than 1.\n",
    "        else:\n",
    "            print(num1)#That means that n must larger than 1, so 0 and 1 must be the numbers which is less than n.\n",
    "            while sum1<n: # Output numbers when the numbers are less than n.\n",
    "                print(sum1)\n",
    "                sum1=num1+num2\n",
    "                num1=num2\n",
    "                num2=sum1\n",
    "            \n",
    "fib_numbers=fib(20)\n",
    "            "
   ]
  },
  {
   "cell_type": "code",
   "execution_count": 3,
   "metadata": {
    "collapsed": false
   },
   "outputs": [
    {
     "name": "stdout",
     "output_type": "stream",
     "text": [
      "6\n"
     ]
    }
   ],
   "source": [
    "#2\n",
    "def mymax(x,y):\n",
    "    if x<=y:\n",
    "        print(y)#Easy step. When x<y, y is max. When x=y, they are the same,so y is also the max.\n",
    "    else:\n",
    "        print(x)\n",
    "mymax(2,6)\n"
   ]
  },
  {
   "cell_type": "code",
   "execution_count": 4,
   "metadata": {
    "collapsed": false
   },
   "outputs": [
    {
     "name": "stdout",
     "output_type": "stream",
     "text": [
      "8\n"
     ]
    }
   ],
   "source": [
    "#3\n",
    "def max_of_three (x,y,z):\n",
    "    if x<=y:\n",
    "        if y<=z:\n",
    "            print(z)#similar to the problem #2.\n",
    "        else:\n",
    "            print(y)\n",
    "    else:\n",
    "        if x<=z:\n",
    "            print(z)\n",
    "        else:\n",
    "            print(x)\n",
    "max_of_three(3,5,8)"
   ]
  },
  {
   "cell_type": "code",
   "execution_count": 4,
   "metadata": {
    "collapsed": false
   },
   "outputs": [
    {
     "name": "stdout",
     "output_type": "stream",
     "text": [
      "7\n",
      "0\n"
     ]
    }
   ],
   "source": [
    "#4\n",
    "def mylen(s):\n",
    "    count=0\n",
    "    for num in s:#Use for loop to find the length of the string or list. Add 1 into the count variable for each loop.\n",
    "        count=count+1\n",
    "    print(count)\n",
    "mylen('dsfdsfg') \n",
    "mylen('')"
   ]
  },
  {
   "cell_type": "code",
   "execution_count": 6,
   "metadata": {
    "collapsed": false
   },
   "outputs": [
    {
     "data": {
      "text/plain": [
       "True"
      ]
     },
     "execution_count": 6,
     "metadata": {},
     "output_type": "execute_result"
    }
   ],
   "source": [
    "#5\n",
    "def get_volume(v):\n",
    "    volume='aeiouAEIOU'#Create a string including all of the volumes.The required string is length one, so we can do like this. Otherwise, if we use two volumes,like 'a','e' , I need to change list like ['a','e'...]\n",
    "    if v in volume:#Use 'in' function in python to know if the character is in the string.\n",
    "        return True\n",
    "    else:\n",
    "        return False\n",
    "get_volume('a')\n",
    "    "
   ]
  },
  {
   "cell_type": "code",
   "execution_count": 7,
   "metadata": {
    "collapsed": false,
    "scrolled": true
   },
   "outputs": [
    {
     "name": "stdout",
     "output_type": "stream",
     "text": [
      "tothohisos isos fofunon\n"
     ]
    }
   ],
   "source": [
    "#6\n",
    "def translate(text):\n",
    "    list='bcdfghjklmnpqrstvwxyzBCDFGHJKLMNPQRSTVWXYZ'#Create a string which includes the consonants.\n",
    "    text1=''#create an empty string to store the tralated string.\n",
    "    for num in text:\n",
    "            if num in list:# Translate the strings which are consonants.\n",
    "                text1+=num+'o'+num\n",
    "            else:\n",
    "                text1+=num\n",
    "    print(text1)\n",
    "    \n",
    "translate('this is fun')\n",
    "            \n",
    "            "
   ]
  },
  {
   "cell_type": "code",
   "execution_count": 8,
   "metadata": {
    "collapsed": false
   },
   "outputs": [
    {
     "data": {
      "text/plain": [
       "24"
      ]
     },
     "execution_count": 8,
     "metadata": {},
     "output_type": "execute_result"
    }
   ],
   "source": [
    "#7\n",
    "def sum(l):\n",
    "    sum1=0\n",
    "    for num in l:\n",
    "        sum1+=num#Just put all numbers together.\n",
    "    return sum1\n",
    "sum([1,2,3,4])\n",
    "def multiply(l):\n",
    "    mul=1\n",
    "    for num in l:\n",
    "        mul=mul*num\n",
    "    return mul\n",
    "multiply([1,2,3,4])\n",
    "    "
   ]
  },
  {
   "cell_type": "code",
   "execution_count": 9,
   "metadata": {
    "collapsed": false
   },
   "outputs": [
    {
     "data": {
      "text/plain": [
       "'gnitset ma I'"
      ]
     },
     "execution_count": 9,
     "metadata": {},
     "output_type": "execute_result"
    }
   ],
   "source": [
    "#8\n",
    "def reverse(s):\n",
    "    new_text=''#empty stirng to store the new text\n",
    "    l=len(s)#find the length of the string\n",
    "    for num in range(0,l):\n",
    "        new_text+=s[l-num-1]#Put the each piece of the string together from the last character to the first one using the for loop.\n",
    "    return new_text\n",
    "reverse('I am testing')"
   ]
  },
  {
   "cell_type": "code",
   "execution_count": 10,
   "metadata": {
    "collapsed": false
   },
   "outputs": [
    {
     "data": {
      "text/plain": [
       "True"
      ]
     },
     "execution_count": 10,
     "metadata": {},
     "output_type": "execute_result"
    }
   ],
   "source": [
    "#9\n",
    "def is_palindrome(w):\n",
    "    if w==reverse(w):#Easy to set up if I use the reverse function from the previous problem.\n",
    "        return True\n",
    "    else:\n",
    "        return False\n",
    "is_palindrome('radar')"
   ]
  },
  {
   "cell_type": "code",
   "execution_count": 8,
   "metadata": {
    "collapsed": false
   },
   "outputs": [
    {
     "data": {
      "text/plain": [
       "True"
      ]
     },
     "execution_count": 8,
     "metadata": {},
     "output_type": "execute_result"
    }
   ],
   "source": [
    "#10\n",
    "def is_member(value,list_value):\n",
    "    for num in list_value:\n",
    "        if value==num:# Use for loop to check if the value is the same as the one of the characters in the list_value.\n",
    "            return True\n",
    "    return False\n",
    "is_member('d','dfadax')\n",
    "            \n",
    "    "
   ]
  },
  {
   "cell_type": "code",
   "execution_count": 9,
   "metadata": {
    "collapsed": false
   },
   "outputs": [
    {
     "data": {
      "text/plain": [
       "True"
      ]
     },
     "execution_count": 9,
     "metadata": {},
     "output_type": "execute_result"
    }
   ],
   "source": [
    "#11\n",
    "def overlapping(list1,list2):\n",
    "    for num in list1:\n",
    "        for num1 in list2:\n",
    "            if num==num1:#Two for loop to check if two lists have at least one character in common.\n",
    "                return True\n",
    "    return False        \n",
    "        \n",
    "overlapping([1,'x','d','x','c'],['sdf','ds',2,3,1])  "
   ]
  },
  {
   "cell_type": "code",
   "execution_count": 13,
   "metadata": {
    "collapsed": false
   },
   "outputs": [
    {
     "data": {
      "text/plain": [
       "'xxxxxxxx'"
      ]
     },
     "execution_count": 13,
     "metadata": {},
     "output_type": "execute_result"
    }
   ],
   "source": [
    "#12\n",
    "def generate_n_chars(n,c):\n",
    "    string=''\n",
    "    num=0\n",
    "    while num<n:\n",
    "        num+=1\n",
    "        string+=c#Just sum up string c n times using while loop\n",
    "    return string\n",
    "generate_n_chars(8,'x')"
   ]
  },
  {
   "cell_type": "code",
   "execution_count": null,
   "metadata": {
    "collapsed": true
   },
   "outputs": [],
   "source": []
  }
 ],
 "metadata": {
  "kernelspec": {
   "display_name": "Python 3",
   "language": "python",
   "name": "python3"
  },
  "language_info": {
   "codemirror_mode": {
    "name": "ipython",
    "version": 3
   },
   "file_extension": ".py",
   "mimetype": "text/x-python",
   "name": "python",
   "nbconvert_exporter": "python",
   "pygments_lexer": "ipython3",
   "version": "3.4.3"
  }
 },
 "nbformat": 4,
 "nbformat_minor": 0
}
