{
 "cells": [
  {
   "cell_type": "code",
   "execution_count": 1,
   "metadata": {
    "collapsed": false
   },
   "outputs": [
    {
     "name": "stdout",
     "output_type": "stream",
     "text": [
      "0\n",
      "1\n",
      "1\n",
      "2\n",
      "3\n",
      "5\n",
      "8\n",
      "13\n"
     ]
    }
   ],
   "source": [
    "#1.\n",
    "\n",
    "def fib (n):\n",
    "    '''\n",
    "    Name the function fib(), create a variable n, which is an interger that no Fibonacci numbers in output can be larger than n.\n",
    "    Use a while loop to calculate the fibonacci numbers and use if statement to check if the number is less than n.\n",
    "    \n",
    "    '''\n",
    "    num1=0\n",
    "    num2=1\n",
    "    sum1=num1+num2\n",
    "    if n<=num1:\n",
    "        print('Too small. Try another number')##If n is less than 0, then  n is too small for Fibonacci numbers.\n",
    "    else:\n",
    "        if n<=num2:\n",
    "            print(num1)# if n =1 ,then 0 is the only Fibonacci number which is less than 1.\n",
    "        else:\n",
    "            print(num1)#That means that n must larger than 1, so 0 and 1 must be the numbers which is less than n.\n",
    "            while sum1<n: # Output numbers when the numbers are less than n.\n",
    "                print(sum1)\n",
    "                sum1=num1+num2\n",
    "                num1=num2\n",
    "                num2=sum1\n",
    "            \n",
    "fib_numbers=fib(20)\n",
    "            "
   ]
  },
  {
   "cell_type": "code",
   "execution_count": 3,
   "metadata": {
    "collapsed": false
   },
   "outputs": [
    {
     "name": "stdout",
     "output_type": "stream",
     "text": [
      "6\n"
     ]
    }
   ],
   "source": [
    "#2\n",
    "def mymax(x,y):\n",
    "    '''Name the function mymax(), create two numbers x and y. Compare two numbers and output a larger one.\n",
    "    Use if condition to check x<=y and output y, then use else condition to output x for x>y. '''\n",
    "    if x<=y:\n",
    "        print(y)#Easy step. When x<y, y is max. When x=y, they are the same,so y is also the max.\n",
    "    else:\n",
    "        print(x)\n",
    "mymax(2,6)\n"
   ]
  },
  {
   "cell_type": "code",
   "execution_count": 4,
   "metadata": {
    "collapsed": false
   },
   "outputs": [
    {
     "name": "stdout",
     "output_type": "stream",
     "text": [
      "8\n"
     ]
    }
   ],
   "source": [
    "#3\n",
    "def max_of_three (x,y,z):\n",
    "    '''Name the function max_of_three(),create three numbers x,y and z. Compare three numbers and output the max of three.\n",
    "    Use if and else condition to check two of numbers which is larger.Then compare the third number with the larger one and output the max of three.'''\n",
    "    if x<=y:#if x<=y, check if y<=z\n",
    "        if y<=z:#similar to the problem #2.\n",
    "            print(z)\n",
    "        else:\n",
    "            print(y)\n",
    "    else:#If x>y,then compare x and z. \n",
    "        if x<=z:#same as the problem#2\n",
    "            print(z) \n",
    "        else:\n",
    "            print(x)\n",
    "max_of_three(3,5,8)"
   ]
  },
  {
   "cell_type": "code",
   "execution_count": 4,
   "metadata": {
    "collapsed": false
   },
   "outputs": [
    {
     "name": "stdout",
     "output_type": "stream",
     "text": [
      "7\n",
      "0\n"
     ]
    }
   ],
   "source": [
    "#4\n",
    "def mylen(s):\n",
    "    '''Name the function mylen(), create one string s and output its length.\n",
    "    Create a initial value count=0, use for loop to add 1 to count for each character in stirng s. Then output the number count after the end of the for loop.'''\n",
    "    count=0#Initial number\n",
    "    for num in s:#Use for loop to find the length of the string or list. Add 1 into the count variable for each loop.\n",
    "        count=count+1\n",
    "    print(count)\n",
    "mylen('dsfdsfg') \n",
    "mylen('')"
   ]
  },
  {
   "cell_type": "code",
   "execution_count": 6,
   "metadata": {
    "collapsed": false
   },
   "outputs": [
    {
     "data": {
      "text/plain": [
       "True"
      ]
     },
     "execution_count": 6,
     "metadata": {},
     "output_type": "execute_result"
    }
   ],
   "source": [
    "#5\n",
    "def get_volume(v):\n",
    "    '''Name the funtion get_volue(), create a letter v and check if this letter is a volume.\n",
    "    Create the volume string with upper and lower case. Use  in function to check if v is in volume string and return True if yes,else return False. '''\n",
    "    volume='aeiouAEIOU'#Create a string including all of the volumes.The required string is length one, so we can do like this. Otherwise, if we use two volumes,like 'a','e' , I need to change list like ['a','e'...]\n",
    "    if v in volume:#Use 'in' function in python to know if the character is in the string.\n",
    "        return True#if v is a volume, return true\n",
    "    else:\n",
    "        return False#if v is not a volume, return false\n",
    "get_volume('a')\n",
    "    "
   ]
  },
  {
   "cell_type": "code",
   "execution_count": 7,
   "metadata": {
    "collapsed": false,
    "scrolled": true
   },
   "outputs": [
    {
     "name": "stdout",
     "output_type": "stream",
     "text": [
      "tothohisos isos fofunon\n"
     ]
    }
   ],
   "source": [
    "#6\n",
    "def translate(text):\n",
    "    '''Name the function translate(), create a string text to double every consonant and place an occurrence of \"o\" in between.\n",
    "    Create a  string named list including all of the consonants and then create an initial empty string text1. Use for loop to check if each of letter \n",
    "    in the string text is in the list. If it is the consonant, double every consonant and place an occurrence of \"o\" in between. Else \n",
    "    just be as it is.'''\n",
    "    list='bcdfghjklmnpqrstvwxyzBCDFGHJKLMNPQRSTVWXYZ'#Create a string which includes the consonants.\n",
    "    text1=''#create an empty string to store the tralated string.\n",
    "    for num in text:\n",
    "            if num in list:# Translate the strings which are consonants.\n",
    "                text1+=num+'o'+num#double every consonant and place an occurrence of \"o\" in between\n",
    "            else:\n",
    "                text1+=num# else, add the original one into the text1.\n",
    "    print(text1)\n",
    "    \n",
    "translate('this is fun')\n",
    "            \n",
    "            "
   ]
  },
  {
   "cell_type": "code",
   "execution_count": 8,
   "metadata": {
    "collapsed": false
   },
   "outputs": [
    {
     "data": {
      "text/plain": [
       "24"
      ]
     },
     "execution_count": 8,
     "metadata": {},
     "output_type": "execute_result"
    }
   ],
   "source": [
    "#7\n",
    "def sum(l):\n",
    "    '''Name the function sum(), create a list l  which havs many numbers and output their summation.\n",
    "    Create the initial sum1=0, use for loop to add these numbers in l into sum1 and output the summation of these numbers.'''\n",
    "    sum1=0# Initial number 0\n",
    "    for num in l:# For each number in list l, sum up together\n",
    "        sum1+=num#Just put all numbers together.\n",
    "    return sum1\n",
    "sum([1,2,3,4])\n",
    "def multiply(l):\n",
    "    '''Name the function multiply(),create a list l which have many numbers and output their multiplication result.\n",
    "    Create the initial number mul=1,  use for loop to multiply these numbers in l into mul and output their multiplication result.'''\n",
    "    mul=1#initial number 1\n",
    "    for num in l:# For each number in list l, multiply together\n",
    "        mul=mul*num\n",
    "    return mul\n",
    "multiply([1,2,3,4])\n",
    "    "
   ]
  },
  {
   "cell_type": "code",
   "execution_count": 9,
   "metadata": {
    "collapsed": false
   },
   "outputs": [
    {
     "data": {
      "text/plain": [
       "'gnitset ma I'"
      ]
     },
     "execution_count": 9,
     "metadata": {},
     "output_type": "execute_result"
    }
   ],
   "source": [
    "#8\n",
    "def reverse(s):\n",
    "    '''Name the function reverse(), create a string s and output the revese of the string.\n",
    "    Create the empty string and use len(s) to get the length of string. Use for loop to find the each character from the backward. And put \n",
    "    these characters back to the new_text and output the reverse of the string s.'''\n",
    "    new_text=''#empty stirng to store the new text\n",
    "    l=len(s)#find the length of the string\n",
    "    for num in range(0,l): #from the range of 0 to the length of s\n",
    "        new_text+=s[l-num-1]#Put the each piece of the string together from the last character to the first one using the for loop.\n",
    "    return new_text\n",
    "reverse('I am testing')"
   ]
  },
  {
   "cell_type": "code",
   "execution_count": 10,
   "metadata": {
    "collapsed": false
   },
   "outputs": [
    {
     "data": {
      "text/plain": [
       "True"
      ]
     },
     "execution_count": 10,
     "metadata": {},
     "output_type": "execute_result"
    }
   ],
   "source": [
    "#9\n",
    "def is_palindrome(w):\n",
    "    '''Name the function is_palindrome(), create a string w and return True if it is the palindromes and return False if it is not the palindromes.\n",
    "    Using the reverse() to find the reverse of the string w and compared it with the original w. If they are the same, then return True.Else, return False'''\n",
    "    if w==reverse(w):#Easy to set up if I use the reverse function from the previous problem. Check if the original string w is the same as reverse of w.\n",
    "        return True #Return True if they are the same.\n",
    "    else:\n",
    "        return False\n",
    "is_palindrome('radar')"
   ]
  },
  {
   "cell_type": "code",
   "execution_count": 8,
   "metadata": {
    "collapsed": false
   },
   "outputs": [
    {
     "data": {
      "text/plain": [
       "True"
      ]
     },
     "execution_count": 8,
     "metadata": {},
     "output_type": "execute_result"
    }
   ],
   "source": [
    "#10\n",
    "def is_member(value,list_value):\n",
    "    '''Name the function is_number(), create two strings value,list_value to check if value is in list_value. Using for loop to check if the each \n",
    "    string in list_value is the same as value. Return true if value is in list_value. Else, return False'''\n",
    "    for num in list_value:#for loop to get each single string in the list_value.\n",
    "        if value==num:# Use for loop to check if the value is the same as the one of the characters in the list_value.\n",
    "            return True# return true if there is a string in list_value is the same as value.\n",
    "    return False\n",
    "is_member('d','dfadax')\n",
    "            \n",
    "    "
   ]
  },
  {
   "cell_type": "code",
   "execution_count": 9,
   "metadata": {
    "collapsed": false
   },
   "outputs": [
    {
     "data": {
      "text/plain": [
       "True"
      ]
     },
     "execution_count": 9,
     "metadata": {},
     "output_type": "execute_result"
    }
   ],
   "source": [
    "#11\n",
    "def overlapping(list1,list2):\n",
    "    '''Name the function overlapping(), create two lists list1 and list2 and return True if two lists have at least one character in common.Else, return false.\n",
    "    Using two for loops to check if each of character in list1 is the same as one of the characters in the list2. Return True if yes, else for the false.'''\n",
    "    for num in list1:#Get each element in list1 \n",
    "        for num1 in list2:# get each element in list2\n",
    "            if num==num1:#Two for loop to check if two lists have at least one character in common.\n",
    "                return True# if there is such one element that is the same, return True\n",
    "    return False#Else, return false       \n",
    "        \n",
    "overlapping([1,'x','d','x','c'],['sdf','ds',2,3,1])  "
   ]
  },
  {
   "cell_type": "code",
   "execution_count": 13,
   "metadata": {
    "collapsed": false
   },
   "outputs": [
    {
     "data": {
      "text/plain": [
       "'xxxxxxxx'"
      ]
     },
     "execution_count": 13,
     "metadata": {},
     "output_type": "execute_result"
    }
   ],
   "source": [
    "#12\n",
    "def generate_n_chars(n,c):\n",
    "    '''Name the function generate_n_chars(), create a two varibales: a number n, a string c to output a string n characters long. \n",
    "    An empty string to store the string. Use the while loop to repeat the c string n times.'''\n",
    "    string=''# an empty string to store the output\n",
    "    num=0# initial counting\n",
    "    while num<n:\n",
    "        num+=1#count number\n",
    "        string+=c#Just sum up string c n times using while loop\n",
    "    return string\n",
    "generate_n_chars(8,'x')"
   ]
  },
  {
   "cell_type": "code",
   "execution_count": null,
   "metadata": {
    "collapsed": true
   },
   "outputs": [],
   "source": []
  }
 ],
 "metadata": {
  "kernelspec": {
   "display_name": "Python 3",
   "language": "python",
   "name": "python3"
  },
  "language_info": {
   "codemirror_mode": {
    "name": "ipython",
    "version": 3
   },
   "file_extension": ".py",
   "mimetype": "text/x-python",
   "name": "python",
   "nbconvert_exporter": "python",
   "pygments_lexer": "ipython3",
   "version": "3.4.3"
  }
 },
 "nbformat": 4,
 "nbformat_minor": 0
}
