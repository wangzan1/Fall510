{
 "cells": [
  {
   "cell_type": "code",
   "execution_count": 19,
   "metadata": {
    "collapsed": false
   },
   "outputs": [
    {
     "name": "stdout",
     "output_type": "stream",
     "text": [
      "****\n",
      "*********\n",
      "*******\n"
     ]
    }
   ],
   "source": [
    "#1\n",
    "def histogram(lis):\n",
    "    for num in lis:\n",
    "        print(num*'*')\n",
    "histogram([4,9,7])"
   ]
“AW: Write function header comments (explaining what the function does, what the input parameters are, and what is returned) and in-line comments explaining logic”
  },
  {
   "cell_type": "code",
   "execution_count": 20,
   "metadata": {
    "collapsed": false
   },
   "outputs": [
    {
     "data": {
      "text/plain": [
       "21"
      ]
     },
     "execution_count": 20,
     "metadata": {},
     "output_type": "execute_result"
    }
   ],
   "source": [
    "#2\n",
    "def max_in_list(l):\n",
    "    s=len(l)\n",
    "    m=l[0]#Create an initial length to make the comparation work\n",
    "    for num in l:\n",
    "        if m >=num:\n",
    "            m=m\n",
    "        else:\n",
    "            m=num\n",
    "    return m\n",
    "max_in_list([21,5,6,8,9,0])\n",
    "        "
   ]
“AW: Write function header comments (explaining what the function does, what the input parameters are, and what is returned) and in-line comments explaining logic”
  },
  {
   "cell_type": "code",
   "execution_count": 21,
   "metadata": {
    "collapsed": false
   },
   "outputs": [
    {
     "data": {
      "text/plain": [
       "[3, 2, 3, 6]"
      ]
     },
     "execution_count": 21,
     "metadata": {},
     "output_type": "execute_result"
    }
   ],
   "source": [
    "#3\n",
    "def find_each_length_of_the_words(one_list):\n",
    "    list1=[]#create a new list to store the list of the numbers\n",
    "    for num in one_list:\n",
    "        list1=list1+[len(num)] #Put length of each words into the list\n",
    "    return list1\n",
    "find_each_length_of_the_words(['wrd','cz','bdr','jdsafk'])\n",
    "        \n",
    "        \n"
   ]
“AW: Write function header comments (explaining what the function does, what the input parameters are, and what is returned)”
  },
  {
   "cell_type": "code",
   "execution_count": 22,
   "metadata": {
    "collapsed": false
   },
   "outputs": [
    {
     "data": {
      "text/plain": [
       "6"
      ]
     },
     "execution_count": 22,
     "metadata": {},
     "output_type": "execute_result"
    }
   ],
   "source": [
    "#4\n",
    "def find_longest_word(*lists):#'*' is to get the same category input.\n",
    "    m=lists[0]#similar to prblem #2,create an initial length to make the comparation work\n",
    "    for list1 in lists:\n",
    "        if len(m)>=len(list1):\n",
    "            m=m\n",
    "        else:\n",
    "            m=list1\n",
    "    return len(m)\n",
    "find_longest_word([0,1,'w','d',1],['wrd','cz','bdr',2,2,2],[1,1])\n",
    "        \n",
    "    "
   ]
“AW: the code should output the length of the longest word instead of the string with the most elements”
“AW: Write function header comments (explaining what the function does, what the input parameters are, and what is returned) and in-line comments for all statements explaining logic”
  },
  {
   "cell_type": "code",
   "execution_count": 23,
   "metadata": {
    "collapsed": false
   },
   "outputs": [
    {
     "data": {
      "text/plain": [
       "['jdsafk']"
      ]
     },
     "execution_count": 23,
     "metadata": {},
     "output_type": "execute_result"
    }
   ],
   "source": [
    "#5\n",
    "def filter_long_words(lst,i):\n",
    "    new_list=[]\n",
    "    for num in lst:\n",
    "        if len (num)>i:\n",
    "            new_list+=[num]#check the length of each element in the list\n",
    "        else:\n",
    "            new_list+=[]\n",
    "    return new_list\n",
    "filter_long_words(['wrd','cz','bdr','jdsafk'],4)\n",
    "\n",
    "    "
   ]
“AW: Write function header comments (explaining what the function does, what the input parameters are, and what is returned) and in-line comments for all statements explaining logic”
  },
  {
   "cell_type": "code",
   "execution_count": 24,
   "metadata": {
    "collapsed": false
   },
   "outputs": [
    {
     "data": {
      "text/plain": [
       "True"
      ]
     },
     "execution_count": 24,
     "metadata": {},
     "output_type": "execute_result"
    }
   ],
   "source": [
    "#6\n",
    "def palindrome_recognizer(s):\n",
    "    a_table='ABCDEFGHIJKLMNOPQRSTUVWXYZ'\n",
    "    new_s=s.upper()#Make the each letter become the uppercase letter.\n",
    "    check_s=''\n",
    "    for num in new_s:\n",
    "        if num in a_table:\n",
    "            check_s+=num# Put all the letters into one string\n",
    "        else:\n",
    "            check_s=check_s\n",
    "    if check_s==check_s[::-1]:#Check if the inverse of check_s is the same as check_s.\n",
    "        return True\n",
    "    else:\n",
    "        return False\n",
    "palindrome_recognizer(\"Go hang a salami I'm a lasagna hog.\")\n",
    "    "
   ]
“AW: Write function header comments (explaining what the function does, what the input parameters are, and what is returned) and in-line comments for all statements explaining logic”
  },
  {
   "cell_type": "code",
   "execution_count": 25,
   "metadata": {
    "collapsed": false
   },
   "outputs": [
    {
     "data": {
      "text/plain": [
       "True"
      ]
     },
     "execution_count": 25,
     "metadata": {},
     "output_type": "execute_result"
    }
   ],
   "source": [
    "#7\n",
    "def pangram_check(s):\n",
    "    a_table='ABCDEFGHIJKLMNOPQRSTUVWXYZ'\n",
    "    count=0\n", “AW: Why is setting count=0 important?”
    "    s_new=s.upper()#Make all of the letters become upper case.\n",
    "    for num in a_table:\n",
    "        if num not in s_new:#if there is one letter not in the string, then return False\n",
    "            return False\n",
    "    return True\n",
    "pangram_check('The quick brown fox jumps over the lazy dog')\n",
    "       \n",
    "        \n",
    "    "
   ]
“AW: Write function header comments (explaining what the function does, what the input parameters are, and what is returned)”
  },
  {
   "cell_type": "code",
   "execution_count": 26,
   "metadata": {
    "collapsed": false
   },
   "outputs": [
    {
     "name": "stdout",
     "output_type": "stream",
     "text": [
      "99 bottles of coke on the wall,99 bottles of coke.Take one down,pass it around,98 bottles of coke on the wall.\n",
      "98 bottles of coke on the wall,98 bottles of coke.Take one down,pass it around,97 bottles of coke on the wall.\n",
      "97 bottles of coke on the wall,97 bottles of coke.Take one down,pass it around,96 bottles of coke on the wall.\n",
      "96 bottles of coke on the wall,96 bottles of coke.Take one down,pass it around,95 bottles of coke on the wall.\n",
      "95 bottles of coke on the wall,95 bottles of coke.Take one down,pass it around,94 bottles of coke on the wall.\n",
      "94 bottles of coke on the wall,94 bottles of coke.Take one down,pass it around,93 bottles of coke on the wall.\n",
      "93 bottles of coke on the wall,93 bottles of coke.Take one down,pass it around,92 bottles of coke on the wall.\n",
      "92 bottles of coke on the wall,92 bottles of coke.Take one down,pass it around,91 bottles of coke on the wall.\n",
      "91 bottles of coke on the wall,91 bottles of coke.Take one down,pass it around,90 bottles of coke on the wall.\n",
      "90 bottles of coke on the wall,90 bottles of coke.Take one down,pass it around,89 bottles of coke on the wall.\n",
      "89 bottles of coke on the wall,89 bottles of coke.Take one down,pass it around,88 bottles of coke on the wall.\n",
      "88 bottles of coke on the wall,88 bottles of coke.Take one down,pass it around,87 bottles of coke on the wall.\n",
      "87 bottles of coke on the wall,87 bottles of coke.Take one down,pass it around,86 bottles of coke on the wall.\n",
      "86 bottles of coke on the wall,86 bottles of coke.Take one down,pass it around,85 bottles of coke on the wall.\n",
      "85 bottles of coke on the wall,85 bottles of coke.Take one down,pass it around,84 bottles of coke on the wall.\n",
      "84 bottles of coke on the wall,84 bottles of coke.Take one down,pass it around,83 bottles of coke on the wall.\n",
      "83 bottles of coke on the wall,83 bottles of coke.Take one down,pass it around,82 bottles of coke on the wall.\n",
      "82 bottles of coke on the wall,82 bottles of coke.Take one down,pass it around,81 bottles of coke on the wall.\n",
      "81 bottles of coke on the wall,81 bottles of coke.Take one down,pass it around,80 bottles of coke on the wall.\n",
      "80 bottles of coke on the wall,80 bottles of coke.Take one down,pass it around,79 bottles of coke on the wall.\n",
      "79 bottles of coke on the wall,79 bottles of coke.Take one down,pass it around,78 bottles of coke on the wall.\n",
      "78 bottles of coke on the wall,78 bottles of coke.Take one down,pass it around,77 bottles of coke on the wall.\n",
      "77 bottles of coke on the wall,77 bottles of coke.Take one down,pass it around,76 bottles of coke on the wall.\n",
      "76 bottles of coke on the wall,76 bottles of coke.Take one down,pass it around,75 bottles of coke on the wall.\n",
      "75 bottles of coke on the wall,75 bottles of coke.Take one down,pass it around,74 bottles of coke on the wall.\n",
      "74 bottles of coke on the wall,74 bottles of coke.Take one down,pass it around,73 bottles of coke on the wall.\n",
      "73 bottles of coke on the wall,73 bottles of coke.Take one down,pass it around,72 bottles of coke on the wall.\n",
      "72 bottles of coke on the wall,72 bottles of coke.Take one down,pass it around,71 bottles of coke on the wall.\n",
      "71 bottles of coke on the wall,71 bottles of coke.Take one down,pass it around,70 bottles of coke on the wall.\n",
      "70 bottles of coke on the wall,70 bottles of coke.Take one down,pass it around,69 bottles of coke on the wall.\n",
      "69 bottles of coke on the wall,69 bottles of coke.Take one down,pass it around,68 bottles of coke on the wall.\n",
      "68 bottles of coke on the wall,68 bottles of coke.Take one down,pass it around,67 bottles of coke on the wall.\n",
      "67 bottles of coke on the wall,67 bottles of coke.Take one down,pass it around,66 bottles of coke on the wall.\n",
      "66 bottles of coke on the wall,66 bottles of coke.Take one down,pass it around,65 bottles of coke on the wall.\n",
      "65 bottles of coke on the wall,65 bottles of coke.Take one down,pass it around,64 bottles of coke on the wall.\n",
      "64 bottles of coke on the wall,64 bottles of coke.Take one down,pass it around,63 bottles of coke on the wall.\n",
      "63 bottles of coke on the wall,63 bottles of coke.Take one down,pass it around,62 bottles of coke on the wall.\n",
      "62 bottles of coke on the wall,62 bottles of coke.Take one down,pass it around,61 bottles of coke on the wall.\n",
      "61 bottles of coke on the wall,61 bottles of coke.Take one down,pass it around,60 bottles of coke on the wall.\n",
      "60 bottles of coke on the wall,60 bottles of coke.Take one down,pass it around,59 bottles of coke on the wall.\n",
      "59 bottles of coke on the wall,59 bottles of coke.Take one down,pass it around,58 bottles of coke on the wall.\n",
      "58 bottles of coke on the wall,58 bottles of coke.Take one down,pass it around,57 bottles of coke on the wall.\n",
      "57 bottles of coke on the wall,57 bottles of coke.Take one down,pass it around,56 bottles of coke on the wall.\n",
      "56 bottles of coke on the wall,56 bottles of coke.Take one down,pass it around,55 bottles of coke on the wall.\n",
      "55 bottles of coke on the wall,55 bottles of coke.Take one down,pass it around,54 bottles of coke on the wall.\n",
      "54 bottles of coke on the wall,54 bottles of coke.Take one down,pass it around,53 bottles of coke on the wall.\n",
      "53 bottles of coke on the wall,53 bottles of coke.Take one down,pass it around,52 bottles of coke on the wall.\n",
      "52 bottles of coke on the wall,52 bottles of coke.Take one down,pass it around,51 bottles of coke on the wall.\n",
      "51 bottles of coke on the wall,51 bottles of coke.Take one down,pass it around,50 bottles of coke on the wall.\n",
      "50 bottles of coke on the wall,50 bottles of coke.Take one down,pass it around,49 bottles of coke on the wall.\n",
      "49 bottles of coke on the wall,49 bottles of coke.Take one down,pass it around,48 bottles of coke on the wall.\n",
      "48 bottles of coke on the wall,48 bottles of coke.Take one down,pass it around,47 bottles of coke on the wall.\n",
      "47 bottles of coke on the wall,47 bottles of coke.Take one down,pass it around,46 bottles of coke on the wall.\n",
      "46 bottles of coke on the wall,46 bottles of coke.Take one down,pass it around,45 bottles of coke on the wall.\n",
      "45 bottles of coke on the wall,45 bottles of coke.Take one down,pass it around,44 bottles of coke on the wall.\n",
      "44 bottles of coke on the wall,44 bottles of coke.Take one down,pass it around,43 bottles of coke on the wall.\n",
      "43 bottles of coke on the wall,43 bottles of coke.Take one down,pass it around,42 bottles of coke on the wall.\n",
      "42 bottles of coke on the wall,42 bottles of coke.Take one down,pass it around,41 bottles of coke on the wall.\n",
      "41 bottles of coke on the wall,41 bottles of coke.Take one down,pass it around,40 bottles of coke on the wall.\n",
      "40 bottles of coke on the wall,40 bottles of coke.Take one down,pass it around,39 bottles of coke on the wall.\n",
      "39 bottles of coke on the wall,39 bottles of coke.Take one down,pass it around,38 bottles of coke on the wall.\n",
      "38 bottles of coke on the wall,38 bottles of coke.Take one down,pass it around,37 bottles of coke on the wall.\n",
      "37 bottles of coke on the wall,37 bottles of coke.Take one down,pass it around,36 bottles of coke on the wall.\n",
      "36 bottles of coke on the wall,36 bottles of coke.Take one down,pass it around,35 bottles of coke on the wall.\n",
      "35 bottles of coke on the wall,35 bottles of coke.Take one down,pass it around,34 bottles of coke on the wall.\n",
      "34 bottles of coke on the wall,34 bottles of coke.Take one down,pass it around,33 bottles of coke on the wall.\n",
      "33 bottles of coke on the wall,33 bottles of coke.Take one down,pass it around,32 bottles of coke on the wall.\n",
      "32 bottles of coke on the wall,32 bottles of coke.Take one down,pass it around,31 bottles of coke on the wall.\n",
      "31 bottles of coke on the wall,31 bottles of coke.Take one down,pass it around,30 bottles of coke on the wall.\n",
      "30 bottles of coke on the wall,30 bottles of coke.Take one down,pass it around,29 bottles of coke on the wall.\n",
      "29 bottles of coke on the wall,29 bottles of coke.Take one down,pass it around,28 bottles of coke on the wall.\n",
      "28 bottles of coke on the wall,28 bottles of coke.Take one down,pass it around,27 bottles of coke on the wall.\n",
      "27 bottles of coke on the wall,27 bottles of coke.Take one down,pass it around,26 bottles of coke on the wall.\n",
      "26 bottles of coke on the wall,26 bottles of coke.Take one down,pass it around,25 bottles of coke on the wall.\n",
      "25 bottles of coke on the wall,25 bottles of coke.Take one down,pass it around,24 bottles of coke on the wall.\n",
      "24 bottles of coke on the wall,24 bottles of coke.Take one down,pass it around,23 bottles of coke on the wall.\n",
      "23 bottles of coke on the wall,23 bottles of coke.Take one down,pass it around,22 bottles of coke on the wall.\n",
      "22 bottles of coke on the wall,22 bottles of coke.Take one down,pass it around,21 bottles of coke on the wall.\n",
      "21 bottles of coke on the wall,21 bottles of coke.Take one down,pass it around,20 bottles of coke on the wall.\n",
      "20 bottles of coke on the wall,20 bottles of coke.Take one down,pass it around,19 bottles of coke on the wall.\n",
      "19 bottles of coke on the wall,19 bottles of coke.Take one down,pass it around,18 bottles of coke on the wall.\n",
      "18 bottles of coke on the wall,18 bottles of coke.Take one down,pass it around,17 bottles of coke on the wall.\n",
      "17 bottles of coke on the wall,17 bottles of coke.Take one down,pass it around,16 bottles of coke on the wall.\n",
      "16 bottles of coke on the wall,16 bottles of coke.Take one down,pass it around,15 bottles of coke on the wall.\n",
      "15 bottles of coke on the wall,15 bottles of coke.Take one down,pass it around,14 bottles of coke on the wall.\n",
      "14 bottles of coke on the wall,14 bottles of coke.Take one down,pass it around,13 bottles of coke on the wall.\n",
      "13 bottles of coke on the wall,13 bottles of coke.Take one down,pass it around,12 bottles of coke on the wall.\n",
      "12 bottles of coke on the wall,12 bottles of coke.Take one down,pass it around,11 bottles of coke on the wall.\n",
      "11 bottles of coke on the wall,11 bottles of coke.Take one down,pass it around,10 bottles of coke on the wall.\n",
      "10 bottles of coke on the wall,10 bottles of coke.Take one down,pass it around,9 bottles of coke on the wall.\n",
      "9 bottles of coke on the wall,9 bottles of coke.Take one down,pass it around,8 bottles of coke on the wall.\n",
      "8 bottles of coke on the wall,8 bottles of coke.Take one down,pass it around,7 bottles of coke on the wall.\n",
      "7 bottles of coke on the wall,7 bottles of coke.Take one down,pass it around,6 bottles of coke on the wall.\n",
      "6 bottles of coke on the wall,6 bottles of coke.Take one down,pass it around,5 bottles of coke on the wall.\n",
      "5 bottles of coke on the wall,5 bottles of coke.Take one down,pass it around,4 bottles of coke on the wall.\n",
      "4 bottles of coke on the wall,4 bottles of coke.Take one down,pass it around,3 bottles of coke on the wall.\n",
      "3 bottles of coke on the wall,3 bottles of coke.Take one down,pass it around,2 bottles of coke on the wall.\n",
      "2 bottles of coke on the wall,2 bottles of coke.Take one down,pass it around,1 bottles of coke on the wall.\n",
      "1 bottles of coke on the wall,1 bottles of coke.Take one down,pass it around,0 bottles of coke on the wall.\n"
     ]
    }
   ],
   "source": [
    "#8\n",
    "def lyrics_creater(n):\n",
“AW: Write function header comments (explaining what the function does, what the input parameters are, and what is returned)”
    "    for i in range(n):\n",
    "        print(str((n-i))+' bottles of coke on the wall,'+str((n-i))+' bottles of coke.'+ 'Take one down,pass it around,'+str((n-i-1))+' bottles of coke on the wall.')\n",
    "    #need to change integer into string. Then use for loop to create verses.\n",
    "lyrics_creater(99)"
   ]
  },
  {
   "cell_type": "code",
   "execution_count": 27,
   "metadata": {
    "collapsed": false
   },
   "outputs": [
    {
     "data": {
      "text/plain": [
       "['god', 'jul', 'och', 'gott', 'nytt', 'år']"
      ]
     },
     "execution_count": 27,
     "metadata": {},
     "output_type": "execute_result"
    }
   ],
   "source": [
    "#9\n",
    "\n",
    "def translate(lst):\n",
“AW: Write function header comments (explaining what the function does, what the input parameters are, and what is returned)”
    "    new_list=[]\n",
    "    dic={\"merry\": 'god','christmas': 'jul','and': 'och','happy':'gott','new':'nytt','year':'år'}#create a dictionary to translate\n",
    "    for num in lst:\n",
    "        new_list+=[dic[num]]#put each words into a new list after the traslation\n",
    "    return new_list\n",
    "translate([\"merry\",\"christmas\",\"and\",\"happy\",\"new\",\"year\"])\n"
   ]
  },
  {
   "cell_type": "code",
   "execution_count": 28,
   "metadata": {
    "collapsed": false
   },
   "outputs": [
    {
     "data": {
      "text/plain": [
       "{'a': 7, 'b': 14, 'c': 3, 'd': 3}"
      ]
     },
     "execution_count": 28,
     "metadata": {},
     "output_type": "execute_result"
    }
   ],
   "source": [
    "#10\n",
    "def char_freq(s):\n",
“AW: Write function header comments (explaining what the function does, what the input parameters are, and what is returned)”
    " \n",
    "    dict={}     #Create an empty dictionary to store the frequency\n",
    "    for num in s:\n",
    "        if num in dict:\n",
    "            dict[num]= int(dict.get(num))+1 #Add one  count for that word in dictionary\n",
    "        else:\n",
    "            dict[num]= 1#if no such element in dictionary, then create an element in dictionary\n",
    "    return dict\n",
    "         \n",
    "char_freq(\"abbabcbdbabdbdbabababcbcbab\")"
   ]
  },
  {
   "cell_type": "code",
   "execution_count": 29,
   "metadata": {
    "collapsed": false
   },
   "outputs": [
    {
     "data": {
      "text/plain": [
       "'Caesarcipher?ImuchpreferCaesarsalad!'"
      ]
     },
     "execution_count": 29,
     "metadata": {},
     "output_type": "execute_result"
    }
   ],
   "source": [
    "#11\n",
    "def ROT_13_decode_incode(s):\n",
    "    key={'a':'n','b':'o','c':'p','d':'q','e':'r','f':'s','g':'t','h':'u','i':'v','j':'w','k':'x','l':'y','m':'z','n':'a','o':'b','p':'c','q':'d','r':'e','s':'f','t':'g','u':'h','v':'i','w':'j','x':'k','y':'l','z':'m','A':'N','B':'O','C':'P','D':'Q','E':'R','F':'S','G':'T','H':'U','I':'V','J':'W','K':'X','L':'Y','M':'Z','N':'A','O':'B','P':'C','Q':'D','R':'E','S':'F','T':'G','U':'H','V':'I','W':'J','X':'K','Y':'L','Z':'M'}\n",
    "    #Create a dictionary to translate the words.\n",
    "    new_s=''\n",
    "    alph='abcdefghijklmnopqrstuvwxyzABCDEFGHIJKLMNOPQRSTUVWXYZ'\n",
    "    for num in s:\n",
    "        if num in alph:#Get rid of the strings which are not words.\n",
    "            new_s+=key[num]\n",
    "        else:\n",
    "            new_s+=num\n",
    "    return new_s\n",
    "ROT_13_decode_incode('Pnrfnepvcure?VzhpucersrePnrfnefnynq!')   \n"
   ]
“AW: Write function header comments (explaining what the function does, what the input parameters are, and what is returned) and in-line comments for all statements explaining logic”
  },
  {
   "cell_type": "code",
   "execution_count": 30,
   "metadata": {
    "collapsed": false
   },
   "outputs": [
    {
     "name": "stdout",
     "output_type": "stream",
     "text": [
      "This is very funny and cool. Indeed!\n"
     ]
    }
   ],
   "source": [
    "#12\n",
    "import re\n",
    "def correct(s):\n",
“AW: Write function header comments (explaining what the function does, what the input parameters are, and what is returned)”
    "    new_s = re.sub('\\ +',' ',s)#remove the extra spaces\n",
    "    new_s = re.sub('\\.','. ',new_s)#Adding the extra space after the period\n",
    "    print(new_s)\n",
    "\n",
    "correct(\"This  is very funny  and  cool.Indeed!\")"
   ]
  },
  {
   "cell_type": "code",
   "execution_count": 31,
   "metadata": {
    "collapsed": false
   },
   "outputs": [
    {
     "name": "stdout",
     "output_type": "stream",
     "text": [
      "tries\n",
      "burshes\n",
      "runs\n",
      "fixes\n"
     ]
    }
   ],
   "source": [
    "#13\n",
    "def make_3sg_form(w):\n",
    "    suffix1='y'\n",
    "    suffix2='o','ch','s','sh','x','z'\n",
    "    if w.endswith(suffix1):\n",
    "        print(w[:-1]+'ies')#The word excludes the last letter and addes 'ies'.\n",
    "    elif w.endswith(suffix2):\n",
    "        print(w+'es')\n",
    "    else:\n",
    "        print(w+'s')\n",
    "make_3sg_form('try') \n",
    "make_3sg_form('bursh')\n",
    "make_3sg_form('run')\n",
    "make_3sg_form('fix')"
   ]
“AW: Write function header comments (explaining what the function does, what the input parameters are, and what is returned) and in-line comments for all statements explaining logic”
  },
  {
   "cell_type": "code",
   "execution_count": 15,
   "metadata": {
    "collapsed": false
   },
   "outputs": [
    {
     "name": "stdout",
     "output_type": "stream",
     "text": [
      "lying\n",
      "moving\n",
      "hugging\n",
      "seing\n"
     ]
    }
   ],
   "source": [
    "#14\n",
    "def make_ing_form(w):\n",
    "    suffix1='e'\n",
    "    suffix2='ie'\n",
    "    vowel='aeiouAEIOU'\n",
    "    consonant='bcdfghjklmnpqrstvwxyzBCDFGHJKLMNPQRSTVWXYZ'\n",
    "    if w.endswith(suffix2):\n",
    "        print(w[:-2]+'y'+'ing')#delete last two letters and add 'ying'\n",
    "    elif w.endswith(suffix1):\n",
    "        print(w[:-1]+'ing')#delete the last letter and add 'ing'\n",
    "    elif len(w)==3 and w[0] in consonant and w[1] in vowel and w[2] in consonant:\n",
    "        print(w+w[len(w)-1]+'ing')\n",
    "    else:\n",
    "        print(w+'ing')\n",
    "make_ing_form('lie')\n",
    "make_ing_form('move')\n",
    "make_ing_form('hug')\n",
    "make_ing_form('see')"
   ]
“AW: Every function should have doc header comments using triple quotes so the function is supported by the help() function. Please use more detailed comments in your code. Thanks!”
  },
  {
   "cell_type": "code",
   "execution_count": null,
   "metadata": {
    "collapsed": false
   },
   "outputs": [],
   "source": []
  }
 ],
 "metadata": {
  "kernelspec": {
   "display_name": "Python 3",
   "language": "python",
   "name": "python3"
  },
  "language_info": {
   "codemirror_mode": {
    "name": "ipython",
    "version": 3
   },
   "file_extension": ".py",
   "mimetype": "text/x-python",
   "name": "python",
   "nbconvert_exporter": "python",
   "pygments_lexer": "ipython3",
   "version": "3.4.3"
  }
 },
 "nbformat": 4,
 "nbformat_minor": 0
}
