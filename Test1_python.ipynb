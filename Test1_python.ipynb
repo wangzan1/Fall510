{
 "cells": [
  {
   "cell_type": "code",
   "execution_count": 26,
   "metadata": {
    "collapsed": false
   },
   "outputs": [
    {
     "name": "stdout",
     "output_type": "stream",
     "text": [
      "8.0\n",
      "6.0\n"
     ]
    }
   ],
   "source": [
    "#1,perimeter\n",
    "def polygperim (coords):\n",
    "    '''Name the function polygperim(), create a variable coords, which is a vector of two pairs that describe the vertices of a polygon given in order.\n",
    "    The function is to find the perimeter of the polygon. First, I get the distance between last point and the first poit. Then use a for loop to get \n",
    "    the each line between two vertices. Add these numbers together to get the perimeter.\n",
    "    '''\n",
    "    perimeter=((coords[0][0]-coords[0][len(coords[0])-1])**2+(coords[1][0]-coords[1][len(coords[0])-1])**2)**0.5\n",
    "    #Create the variable perimeter to get the distance between  last point and the first point using the two point distance formula. \n",
    "    for i in range((len(coords[0])-1)):# Use for loop to get the other lines distances \n",
    "        perimeter+=((coords[0][i]-coords[0][i+1])**2+(coords[1][i]-coords[1][i+1])**2)**0.5# Add these distances together to get the perimeter of the poygon\n",
    "    print(perimeter)\n",
    "polygperim(([0,2,2,0],[0,0,2,2]))\n",
    "polygperim(([-1,1,0],[0,0,3**0.5]))        "
   ]
  },
  {
   "cell_type": "code",
   "execution_count": 37,
   "metadata": {
    "collapsed": false
   },
   "outputs": [
    {
     "name": "stdout",
     "output_type": "stream",
     "text": [
      "4.0\n",
      "1.7320508075688772\n"
     ]
    }
   ],
   "source": [
    "#1, area\n",
    "def polygarea(coords):\n",
    "    ''' Name the function polygarea (), create a variable coords, which is a vector of two pairs that describ the vertices of a polygon given \n",
    "    in order. The function is to find the area of the polygon. First, by the fomula to caculate the first point and the last point.Then use for\n",
    "    loop to get the rest of the points by the given formula. Then use the formula to get the area.'''\n",
    "    area=coords[1][0]*coords[0][len(coords[0])-1]-coords[0][0]*coords[1][len(coords[0])-1]# The first point and the last point of the formula XkYk+1-Xk+1Yk.\n",
    "    for i in  range((len(coords[0])-1)):# Use for loop to get the rest of the points using the formula XkYk+1-Xk+1Yk.\n",
    "        area+=coords[1][i+1]*coords[0][i]-coords[0][i+1]*coords[1][i]# Add these numbers together.\n",
    "    area=0.5*abs(area)# Use the formula to get the area.\n",
    "    print(area)\n",
    "polygarea(([0,2,2,0],[0,0,2,2]))\n",
    "polygarea(([-1,1,0],[0,0,3**0.5]))"
   ]
  },
  {
   "cell_type": "code",
   "execution_count": null,
   "metadata": {
    "collapsed": false
   },
   "outputs": [],
   "source": []
  },
  {
   "cell_type": "code",
   "execution_count": null,
   "metadata": {
    "collapsed": true
   },
   "outputs": [],
   "source": []
  }
 ],
 "metadata": {
  "kernelspec": {
   "display_name": "Python 3",
   "language": "python",
   "name": "python3"
  },
  "language_info": {
   "codemirror_mode": {
    "name": "ipython",
    "version": 3
   },
   "file_extension": ".py",
   "mimetype": "text/x-python",
   "name": "python",
   "nbconvert_exporter": "python",
   "pygments_lexer": "ipython3",
   "version": "3.4.3"
  }
 },
 "nbformat": 4,
 "nbformat_minor": 0
}
